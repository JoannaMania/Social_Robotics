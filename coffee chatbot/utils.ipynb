{
 "cells": [
  {
   "cell_type": "code",
   "execution_count": null,
   "metadata": {},
   "outputs": [],
   "source": [
    "def print_message():\n",
    "  print('I\\'m sorry, I did not understand your selection. Please enter the corresponding letter for your response.')\n",
    "  \n",
    "def get_size():\n",
    "  res = input('What size drink can I get for you? \\n[a] Small \\n[b] Medium \\n[c] Large \\n> ')\n",
    "  \n",
    "  if res == 'a':\n",
    "    return 'small'\n",
    "  elif res == 'b':\n",
    "    return 'medium'\n",
    "  elif res == 'c':\n",
    "    return 'large'\n",
    "  else:\n",
    "    print_message()\n",
    "    return get_size()\n",
    "\n",
    "def order_latte():\n",
    "  res = input('And what kind of milk for your latte? \\n[a] 2% milk \\n[b] Non-fat milk \\n[c] Soy milk \\n> ')\n",
    "\n",
    "  if res == 'a':\n",
    "    return 'latte'\n",
    "  elif res == 'b':\n",
    "    return 'non-fat latte'\n",
    "  elif res == 'c':\n",
    "    return 'soy latte'\n",
    "  else:\n",
    "    print_message()\n",
    "    return order_latte()\n"
   ]
  }
 ],
 "metadata": {
  "kernelspec": {
   "display_name": "Python 3",
   "language": "python",
   "name": "python3"
  },
  "language_info": {
   "codemirror_mode": {
    "name": "ipython",
    "version": 3
   },
   "file_extension": ".py",
   "mimetype": "text/x-python",
   "name": "python",
   "nbconvert_exporter": "python",
   "pygments_lexer": "ipython3",
   "version": "3.8.3"
  }
 },
 "nbformat": 4,
 "nbformat_minor": 4
}
