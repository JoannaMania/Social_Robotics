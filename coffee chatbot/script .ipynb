{
 "cells": [
  {
   "cell_type": "code",
   "execution_count": null,
   "metadata": {},
   "outputs": [],
   "source": [
    "from utils import print_message, get_size, order_latte\n",
    "\n",
    "def coffee_bot():\n",
    "  print('Welcome to the cafe!')\n",
    "\n",
    "  order_drink = 'y'\n",
    "  drinks = []\n",
    " \n",
    "  while order_drink == 'y':\n",
    "    size = get_size()  \n",
    "    drink_type = get_drink_type()\n",
    "\n",
    "    drink = '{} {}'.format(size, drink_type)\n",
    "    print('Alright, that\\'s a {}!'.format(drink))\n",
    "    drinks.append(drink)\n",
    "    while True: \n",
    "      order_drink = input('Would you like to order another drink? (y/n) \\n>')\n",
    "\n",
    "      if order_drink in ['y', 'n']:\n",
    "        break \n",
    "  \n",
    "  print(\"Okey, so I have:\")\n",
    "  \n",
    "  for drink in drinks: \n",
    "    print('-', drink)\n",
    "\n",
    "  name = input('Can I get your name please? \\n> ')\n",
    "  print('Thanks, {}! Your order will be ready shortly.'.format(name))\n",
    "\n",
    "def get_drink_type():\n",
    "  res = input('What type of drink would you like? \\n[a] Brewed Coffee \\n[b] Mocha \\n[c] Latte \\n> ')\n",
    "\n",
    "  if res == 'a':\n",
    "    return 'brewed coffee'\n",
    "  elif res == 'b':\n",
    "    return order_mocha()\n",
    "  elif res == 'c':\n",
    "    return order_latte()\n",
    "  else:\n",
    "    print_message()\n",
    "    return get_drink_type()\n",
    "  \n",
    "# Define new functions here!\n",
    "def order_mocha():\n",
    "  while True:\n",
    "    res = input('Would you like to try our limited-edition peppermint mocha? \\n[a] Sure! \\n[b] Maybe next time! \\n>')\n",
    "    if res == 'a':\n",
    "      return \"peppermint mocha\"\n",
    "    elif res == 'b':\n",
    "      return \"mocha\"\n",
    "    print_message()\n",
    "\n",
    "coffee_bot()\n"
   ]
  }
 ],
 "metadata": {
  "kernelspec": {
   "display_name": "Python 3",
   "language": "python",
   "name": "python3"
  },
  "language_info": {
   "codemirror_mode": {
    "name": "ipython",
    "version": 3
   },
   "file_extension": ".py",
   "mimetype": "text/x-python",
   "name": "python",
   "nbconvert_exporter": "python",
   "pygments_lexer": "ipython3",
   "version": "3.8.3"
  }
 },
 "nbformat": 4,
 "nbformat_minor": 4
}
